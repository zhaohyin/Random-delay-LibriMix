{
 "cells": [
  {
   "cell_type": "code",
   "execution_count": 77,
   "metadata": {},
   "outputs": [
    {
     "name": "stdout",
     "output_type": "stream",
     "text": [
      "http://chimechallenge.github.io/chime2020-workshop/papers/CHiME_2020_paper_du.pdf\n",
      "http://chimechallenge.github.io/chime2020-workshop/papers/CHiME_2020_paper_chen.pdf\n",
      "http://chimechallenge.github.io/chime2020-workshop/papers/CHiME_2020_paper_medennikov.pdf\n",
      "http://chimechallenge.github.io/chime2020-workshop/papers/CHiME_2020_paper_zorila.pdf\n",
      "http://chimechallenge.github.io/chime2020-workshop/papers/CHiME_2020_paper_tang.pdf\n",
      "http://chimechallenge.github.io/chime2020-workshop/papers/CHiME_2020_paper_yang.pdf\n",
      "http://chimechallenge.github.io/chime2020-workshop/papers/CHiME_2020_paper_arora.pdf\n",
      "http://chimechallenge.github.io/chime2020-workshop/papers/CHiME_2020_paper_ren.pdf\n",
      "http://chimechallenge.github.io/chime2020-workshop/papers/CHiME_2020_paper_zmolikova.pdf\n",
      "http://chimechallenge.github.io/chime2020-workshop/papers/CHiME_2020_paper_lee.pdf\n",
      "http://chimechallenge.github.io/chime2020-workshop/abstracts/CHiME_2020_abstract_sreeram.pdf\n",
      "http://chimechallenge.github.io/chime2020-workshop/papers/CHiME_2020_paper_watanabe.pdf\n",
      "http://chimechallenge.github.io/chime2020-workshop/papers/CHiME_2020_paper_du.pdf\n",
      "http://chimechallenge.github.io/chime2020-workshop/papers/CHiME_2020_paper_medennikov.pdf\n",
      "http://chimechallenge.github.io/chime2020-workshop/papers/CHiME_2020_paper_chen.pdf\n",
      "http://chimechallenge.github.io/chime2020-workshop/papers/CHiME_2020_paper_zorila.pdf\n",
      "http://chimechallenge.github.io/chime2020-workshop/papers/CHiME_2020_paper_tang.pdf\n",
      "http://chimechallenge.github.io/chime2020-workshop/papers/CHiME_2020_paper_yang.pdf\n",
      "http://chimechallenge.github.io/chime2020-workshop/papers/CHiME_2020_paper_arora.pdf\n",
      "http://chimechallenge.github.io/chime2020-workshop/papers/CHiME_2020_paper_ren.pdf\n",
      "http://chimechallenge.github.io/chime2020-workshop/papers/CHiME_2020_paper_zmolikova.pdf\n",
      "http://chimechallenge.github.io/chime2020-workshop/papers/CHiME_2020_paper_watanabe.pdf\n",
      "http://chimechallenge.github.io/chime2020-workshop/papers/CHiME_2020_paper_medennikov.pdf\n",
      "http://chimechallenge.github.io/chime2020-workshop/abstracts/CHiME_2020_abstract_ni.pdf\n",
      "http://chimechallenge.github.io/chime2020-workshop/papers/CHiME_2020_paper_du.pdf\n",
      "http://chimechallenge.github.io/chime2020-workshop/papers/CHiME_2020_paper_boeddeker.pdf\n",
      "http://chimechallenge.github.io/chime2020-workshop/papers/CHiME_2020_paper_zmolikova.pdf\n",
      "http://chimechallenge.github.io/chime2020-workshop/papers/CHiME_2020_paper_yang.pdf\n",
      "http://chimechallenge.github.io/chime2020-workshop/abstracts/CHiME_2020_abstract_ni.pdf\n",
      "http://chimechallenge.github.io/chime2020-workshop/papers/CHiME_2020_paper_lee.pdf\n",
      "http://chimechallenge.github.io/chime2020-workshop/papers/CHiME_2020_paper_watanabe.pdf\n",
      "http://chimechallenge.github.io/chime2020-workshop/papers/CHiME_2020_paper_medennikov.pdf\n",
      "http://chimechallenge.github.io/chime2020-workshop/papers/CHiME_2020_paper_arora.pdf\n",
      "http://chimechallenge.github.io/chime2020-workshop/papers/CHiME_2020_paper_du.pdf\n",
      "http://chimechallenge.github.io/chime2020-workshop/papers/CHiME_2020_paper_boeddeker.pdf\n",
      "http://chimechallenge.github.io/chime2020-workshop/papers/CHiME_2020_paper_zmolikova.pdf\n",
      "http://chimechallenge.github.io/chime2020-workshop/papers/CHiME_2020_paper_watanabe.pdf\n"
     ]
    }
   ],
   "source": [
    "from bs4 import BeautifulSoup\n",
    "import pandas as pd \n",
    "import requests\n",
    "\n",
    "filepath='Task Overview _ CHiME-6 Challenge.html' #保存的网页，自己按照实际保存位置调整\n",
    "\n",
    "with open(filepath,'rb') as f:\n",
    "    ss=f.read()\n",
    "\n",
    "soup=BeautifulSoup(ss,'html.parser') \n",
    "# print(soup)\n",
    "#获取所有id为cart-row-attributes的div标签\n",
    "divfind=soup.find_all(\"a\")\n",
    "pdfurl = []\n",
    "for df in divfind:\n",
    "    h = str(df)\n",
    "    if 'pdf' in h:\n",
    "        m=h.split('\"')[1] \n",
    "        pdfurl.append(m)\n",
    "        print(m)  "
   ]
  },
  {
   "cell_type": "code",
   "execution_count": 76,
   "metadata": {},
   "outputs": [
    {
     "name": "stdout",
     "output_type": "stream",
     "text": [
      "下载成功\n",
      "下载成功\n",
      "下载成功\n",
      "下载成功\n",
      "下载成功\n",
      "下载成功\n",
      "下载成功\n",
      "下载成功\n",
      "下载成功\n",
      "下载成功\n",
      "下载成功\n",
      "下载成功\n",
      "下载成功\n",
      "下载成功\n",
      "下载成功\n",
      "下载成功\n",
      "下载成功\n",
      "下载成功\n",
      "下载成功\n",
      "下载成功\n",
      "下载成功\n",
      "下载成功\n",
      "下载成功\n",
      "下载成功\n",
      "下载成功\n",
      "下载成功\n",
      "下载成功\n",
      "下载成功\n",
      "下载成功\n",
      "下载成功\n",
      "下载成功\n",
      "下载成功\n",
      "下载成功\n",
      "下载成功\n",
      "下载成功\n",
      "下载成功\n",
      "下载成功\n"
     ]
    }
   ],
   "source": [
    "for url in pdfurl:\n",
    "    req = requests.get(url)\n",
    "    filename = url.split('/')[-1]\n",
    "    with open(filename, 'wb') as f:\n",
    "            #req.content为获取html的内容\n",
    "            f.write(req.content)\n",
    "            print('下载成功')"
   ]
  },
  {
   "cell_type": "code",
   "execution_count": null,
   "metadata": {},
   "outputs": [],
   "source": []
  },
  {
   "cell_type": "code",
   "execution_count": null,
   "metadata": {},
   "outputs": [],
   "source": []
  }
 ],
 "metadata": {
  "kernelspec": {
   "display_name": "Python 3",
   "language": "python",
   "name": "python3"
  },
  "language_info": {
   "codemirror_mode": {
    "name": "ipython",
    "version": 3
   },
   "file_extension": ".py",
   "mimetype": "text/x-python",
   "name": "python",
   "nbconvert_exporter": "python",
   "pygments_lexer": "ipython3",
   "version": "3.7.3"
  }
 },
 "nbformat": 4,
 "nbformat_minor": 4
}
